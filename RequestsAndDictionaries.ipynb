{
  "nbformat": 4,
  "nbformat_minor": 0,
  "metadata": {
    "colab": {
      "name": "RequestsAndDictionaries.ipynb",
      "private_outputs": true,
      "provenance": [],
      "collapsed_sections": [],
      "include_colab_link": true
    },
    "kernelspec": {
      "name": "python3",
      "display_name": "Python 3"
    }
  },
  "cells": [
    {
      "cell_type": "markdown",
      "metadata": {
        "id": "view-in-github",
        "colab_type": "text"
      },
      "source": [
        "<a href=\"https://colab.research.google.com/github/PandaShao029/test/blob/main/RequestsAndDictionaries.ipynb\" target=\"_parent\"><img src=\"https://colab.research.google.com/assets/colab-badge.svg\" alt=\"Open In Colab\"/></a>"
      ]
    },
    {
      "cell_type": "markdown",
      "metadata": {
        "id": "rp1nZQNbpNb2"
      },
      "source": [
        "# Getting started\n",
        "This notebook will get you started making requests using Python in a Jupyter notebook.\n",
        "\n",
        "We will answer the first question in Section 6.3.1.\n",
        "\n",
        "We start by importing the `requests` package."
      ]
    },
    {
      "cell_type": "code",
      "metadata": {
        "id": "hyWEKz-kn_Hs"
      },
      "source": [
        "import requests"
      ],
      "execution_count": null,
      "outputs": []
    },
    {
      "cell_type": "markdown",
      "metadata": {
        "id": "bgVfs47jpmYQ"
      },
      "source": [
        "Next, we use `requests` to make a GET request.\n"
      ]
    },
    {
      "cell_type": "code",
      "metadata": {
        "id": "_ZK6zVpVoUJk"
      },
      "source": [
        "requests.get('https://restcountries.com/v3.1/name/usa/')"
      ],
      "execution_count": null,
      "outputs": []
    },
    {
      "cell_type": "markdown",
      "metadata": {
        "id": "9irPqrH1pv4j"
      },
      "source": [
        "We see `<Response [200]>` rather than the full output of the request. This is an [HTTP status code](https://developer.mozilla.org/en-US/docs/Web/HTTP/Status). A code of 200 indicates a successful request.\n",
        "\n",
        "Why don't we see the JSON output then? The `requests` package has functions we use to extract the various pieces of our request, piece by piece, rather than dumping the full output on to our screen.\n",
        "\n",
        "To use these functions, first save our request as a Python variable which we chose to call `res`."
      ]
    },
    {
      "cell_type": "code",
      "metadata": {
        "id": "7sznbzqcoXQo"
      },
      "source": [
        "res = requests.get('https://restcountries.com/v3.1/name/usa/')"
      ],
      "execution_count": null,
      "outputs": []
    },
    {
      "cell_type": "markdown",
      "metadata": {
        "id": "E9iFL4-xrIfJ"
      },
      "source": [
        "Now, let's start by extracting the status code."
      ]
    },
    {
      "cell_type": "code",
      "metadata": {
        "id": "XnjjeXPNpEfK"
      },
      "source": [
        "res.status_code"
      ],
      "execution_count": null,
      "outputs": []
    },
    {
      "cell_type": "markdown",
      "metadata": {
        "id": "FcDR6WKOrM-7"
      },
      "source": [
        "Next, let's extract the JSON text from our request."
      ]
    },
    {
      "cell_type": "code",
      "metadata": {
        "id": "pmB0EsWMpGXV"
      },
      "source": [
        "res.text"
      ],
      "execution_count": null,
      "outputs": []
    },
    {
      "cell_type": "markdown",
      "metadata": {
        "id": "hU1nIauprTQ-"
      },
      "source": [
        "Next, let's convert this JSON into a new data structure, a Python dictionary. What is a *Python dictionary*? Like a JSON, it too consists of key-value pairs. Additionally, every Python dictionary comes equipped with Python functions that you can use to search the dictionary and extract the information you are looking for. We were not able to do this with JSON alone. Indeed, in the shell we used the shell utility `jq`.\n",
        "\n",
        "So in the code below, we take the request `res` and apply the `json()` function to it with `res.json()`. The output of this function is a Python dictionary, that here we are saving using the illustrative name `res_dict`."
      ]
    },
    {
      "cell_type": "code",
      "metadata": {
        "id": "_c9oLPVVsH3q"
      },
      "source": [
        "res_dict = res.json()"
      ],
      "execution_count": null,
      "outputs": []
    },
    {
      "cell_type": "markdown",
      "metadata": {
        "id": "U-nfp7KEs21g"
      },
      "source": [
        "Let's inspect, using the built-in Python function `type`, what type of data structure we are dealing with."
      ]
    },
    {
      "cell_type": "code",
      "metadata": {
        "id": "s7JmoXgys6CS"
      },
      "source": [
        "type(res_dict)"
      ],
      "execution_count": null,
      "outputs": []
    },
    {
      "cell_type": "markdown",
      "metadata": {
        "id": "NoCnEnCdtKi_"
      },
      "source": [
        "We see that it is a Python list. Let's see what it looks like."
      ]
    },
    {
      "cell_type": "code",
      "metadata": {
        "id": "2oJEU7uytPF0"
      },
      "source": [
        "res_dict"
      ],
      "execution_count": null,
      "outputs": []
    },
    {
      "cell_type": "markdown",
      "metadata": {
        "id": "n4WgMLxBtQED"
      },
      "source": [
        "We see square brackets [], this indicates a Python list. Below, we extract from the list the dictionary it contains."
      ]
    },
    {
      "cell_type": "code",
      "source": [
        "res_dict = res_dict[0]"
      ],
      "metadata": {
        "id": "R7MuGfRHXBX5"
      },
      "execution_count": null,
      "outputs": []
    },
    {
      "cell_type": "markdown",
      "source": [
        "Now let's check."
      ],
      "metadata": {
        "id": "o0fSPCywXIhi"
      }
    },
    {
      "cell_type": "code",
      "source": [
        "type(res_dict)\n"
      ],
      "metadata": {
        "id": "euWgFd-WXFyM"
      },
      "execution_count": null,
      "outputs": []
    },
    {
      "cell_type": "markdown",
      "source": [
        "Inside are key-values pairs, identical to the JSON text. Where it differs is we may select values from the dictionary using the keys with the `[]` notation. For example, let's inspect the values for `numericCode`."
      ],
      "metadata": {
        "id": "Z_BJuarhW_Ai"
      }
    },
    {
      "cell_type": "code",
      "metadata": {
        "id": "qfjZEziotuwO"
      },
      "source": [
        "res_dict['capital']"
      ],
      "execution_count": null,
      "outputs": []
    },
    {
      "cell_type": "markdown",
      "metadata": {
        "id": "trmdssbHuJJd"
      },
      "source": [
        "## Investigating other countries\n",
        "Now that we know what is going on, let's streamline our code and investigate other countries in the dataset.\n",
        "\n",
        "First, let's make a form so that it is easy to change the country code and rerun the code."
      ]
    },
    {
      "cell_type": "code",
      "metadata": {
        "id": "cDXauR6tuVgA"
      },
      "source": [
        "#@title Enter the country code { run: \"auto\", vertical-output: true, display-mode: \"form\" }\n",
        "#@markdown Enter the [country code](https://countrycode.org/) of the country that you would like to investigate. Search by ISO 3166-1 2-letter or 3-letter country code.\n",
        "country = 'BZ' #@param {type: \"string\"}"
      ],
      "execution_count": null,
      "outputs": []
    },
    {
      "cell_type": "markdown",
      "metadata": {
        "id": "jiI8Tx2exwPz"
      },
      "source": [
        "If you click the options for the form above, then you will see that the form is simply storing what you entered into a Python variable called `country`. Indeed, if you run the cell below, you will see the country code you input to the form."
      ]
    },
    {
      "cell_type": "code",
      "metadata": {
        "id": "JNcKatyvw_dl"
      },
      "source": [
        "country"
      ],
      "execution_count": null,
      "outputs": []
    },
    {
      "cell_type": "code",
      "metadata": {
        "id": "HtrGRpjf-Lgx"
      },
      "source": [
        "f'https://restcountries.com/v3.1/name/{country}'"
      ],
      "execution_count": null,
      "outputs": []
    },
    {
      "cell_type": "markdown",
      "metadata": {
        "id": "GoNr43jSyCEW"
      },
      "source": [
        "Now, let's make the request and convert it into a dictionary called `country_dict`."
      ]
    },
    {
      "cell_type": "code",
      "metadata": {
        "id": "3q2cVruZw7B0"
      },
      "source": [
        "res = requests.get(f'https://restcountries.com/v3.1/name/{country}')\n",
        "country_dict = res.json()[0]"
      ],
      "execution_count": null,
      "outputs": []
    },
    {
      "cell_type": "markdown",
      "metadata": {
        "id": "B3nP2pmauitN"
      },
      "source": [
        "Lastly, let's investigate the borders of Peru by looking up in the `country_dict` dictionary the value under `borders`."
      ]
    },
    {
      "cell_type": "code",
      "metadata": {
        "id": "SLOwP3pvyd8f"
      },
      "source": [
        "country_dict['borders']"
      ],
      "execution_count": null,
      "outputs": []
    },
    {
      "cell_type": "markdown",
      "metadata": {
        "id": "0AFd2BBsygW6"
      },
      "source": [
        "## More on Python dictionaries\n",
        "A dictionary is a fundamental data structure in Python. Here are some of the tools you can use for working with them. These will help you to answer the questions in 6.3.1."
      ]
    },
    {
      "cell_type": "markdown",
      "metadata": {
        "id": "R5IYmithy_Dr"
      },
      "source": [
        "### Dictionary methods\n",
        "Previously, I mentioned that dictionaries come equipped with functions that you can use on them. Often in computer programming such functions are called `methods`. For example, `.keys()` is a method. Let's see what it does. "
      ]
    },
    {
      "cell_type": "code",
      "metadata": {
        "id": "bexFAq2h1DM_"
      },
      "source": [
        "country_dict.keys()"
      ],
      "execution_count": null,
      "outputs": []
    },
    {
      "cell_type": "markdown",
      "metadata": {
        "id": "VcrCEaNq1b3V"
      },
      "source": [
        "We see in the output all of the keys that belong to the `country_dict` dictionary.\n",
        "\n",
        "How many are there?"
      ]
    },
    {
      "cell_type": "code",
      "metadata": {
        "id": "EQ5id_Jj1pPT"
      },
      "source": [
        "len(country_dict.keys())"
      ],
      "execution_count": null,
      "outputs": []
    },
    {
      "cell_type": "markdown",
      "metadata": {
        "id": "S6sl7GyZ1SIP"
      },
      "source": [
        "The length function `len()` above is one example of what are called *built-in Python functions*. They do not need to be imported, and they are not called using the dot notation because they are not methods belonging to another object.\n",
        "\n",
        "What else can I do with dictionaries?\n",
        "Use `.values()` to see all values in the dictionary."
      ]
    },
    {
      "cell_type": "code",
      "metadata": {
        "id": "7z-QfieC2w03"
      },
      "source": [
        "country_dict.values()"
      ],
      "execution_count": null,
      "outputs": []
    },
    {
      "cell_type": "markdown",
      "metadata": {
        "id": "kDCA5rhD2zAX"
      },
      "source": [
        "## Trivia question\n",
        "To finish, let's answer the following trivia question I just made up.\n",
        "> I am thinking of a country. Its name starts with the letter A. Among all such countries, it has the greatest number of borders. Which country am I thinking of?\n",
        "\n",
        "### Answer the question\n",
        "To begin with, let's make requests for all countries with country code starting with A and store all of the requests in one master dictionary that we will call `A_dict`. Then, we can \n",
        "\n",
        "To do this, we make a list of all such country codes. The data comes from this [page](https://www.iban.com/country-codes).\n"
      ]
    },
    {
      "cell_type": "code",
      "metadata": {
        "id": "gP74dCU03_56"
      },
      "source": [
        "A_countries = ['AF','AX','AL','DZ','AS','AD','AO','AI','AQ','AG','AR','AM','AW','AU','AT','AZ']"
      ],
      "execution_count": null,
      "outputs": []
    },
    {
      "cell_type": "markdown",
      "metadata": {
        "id": "LcpHHBjx4kUt"
      },
      "source": [
        "Next, we make an empty dictionary."
      ]
    },
    {
      "cell_type": "code",
      "metadata": {
        "id": "-J67vq3F4vJj"
      },
      "source": [
        "border_dict = {}"
      ],
      "execution_count": null,
      "outputs": []
    },
    {
      "cell_type": "markdown",
      "metadata": {
        "id": "ssVsgMKf5dEZ"
      },
      "source": [
        "We add key-value pairs to a dictionary as follows."
      ]
    },
    {
      "cell_type": "code",
      "metadata": {
        "id": "z-X00fKc5nhX"
      },
      "source": [
        "border_dict['AF'] = 6"
      ],
      "execution_count": null,
      "outputs": []
    },
    {
      "cell_type": "markdown",
      "metadata": {
        "id": "C1-iIKg15tju"
      },
      "source": [
        "Let's check that our dictionary is no longer empty.\n"
      ]
    },
    {
      "cell_type": "code",
      "metadata": {
        "id": "adUDbRow5sMF"
      },
      "source": [
        "border_dict"
      ],
      "execution_count": null,
      "outputs": []
    },
    {
      "cell_type": "markdown",
      "metadata": {
        "id": "uH_L8lB0-MRA"
      },
      "source": [
        "Let's delete the entry we made."
      ]
    },
    {
      "cell_type": "code",
      "metadata": {
        "id": "NWJklUDD8p2e"
      },
      "source": [
        "del border_dict['AF']"
      ],
      "execution_count": null,
      "outputs": []
    },
    {
      "cell_type": "markdown",
      "metadata": {
        "id": "9uK3SefW-Qx_"
      },
      "source": [
        "Now it is empty again."
      ]
    },
    {
      "cell_type": "code",
      "metadata": {
        "id": "CMzoA1gG-Snw"
      },
      "source": [
        "border_dict"
      ],
      "execution_count": null,
      "outputs": []
    },
    {
      "cell_type": "markdown",
      "metadata": {
        "id": "HhWGVMUx4uVY"
      },
      "source": [
        "Now, we iterate through the `A_countries` list, making GET requests and adding them to our `border_dict` dictionary. We will make its keys the country code, and its values the list of borders.\n",
        "\n",
        "In Python, indentation is responsible for control flow, that is, by indenting all of the lines by two spaces after the line `for country in A_countries:` that ensures that all three lines are executed for each country in `A_countries`."
      ]
    },
    {
      "cell_type": "code",
      "metadata": {
        "id": "TNNZCAyi4dNK"
      },
      "source": [
        "for country in A_countries:\n",
        "  res = requests.get(f'https://restcountries.com/v3.1/name/{country}') # GET request for country code 'country'\n",
        "  res_dict = res.json()[0] # Create a python dictionary from the JSON\n",
        "  try:\n",
        "    border_dict[country] = len(res_dict['borders']) #Use len to compute the length of the list of borders\n",
        "  except: \n",
        "    print(f\"No list of borders available for this country: {country}\")"
      ],
      "execution_count": null,
      "outputs": []
    },
    {
      "cell_type": "markdown",
      "metadata": {
        "id": "FWH-kcCm_yM7"
      },
      "source": [
        "After running the cell above,let's see what our new dictionary `border_dict` looks like."
      ]
    },
    {
      "cell_type": "code",
      "metadata": {
        "id": "5t1MbWJa99Zc"
      },
      "source": [
        "border_dict"
      ],
      "execution_count": null,
      "outputs": []
    },
    {
      "cell_type": "markdown",
      "metadata": {
        "id": "UF9iDK-P_5kF"
      },
      "source": [
        "Finally, let's use the built-in `max` function to search for the country with the greater number of borders that has a name starting with the letter A. We pass an additional arguement to max, namely `key=border_dict.get` which tells max to use the values when it is searching for the max as opposed to using the keys. Indeed, recall that `border_dict.get('AT')` is another way to get the value of the dictionary for the key `AT`."
      ]
    },
    {
      "cell_type": "code",
      "metadata": {
        "id": "oXV-hiPYAFap"
      },
      "source": [
        "max(border_dict, key=border_dict.get)"
      ],
      "execution_count": null,
      "outputs": []
    },
    {
      "cell_type": "markdown",
      "metadata": {
        "id": "CG3QGScz1sBN"
      },
      "source": [
        "Looking up the country code, we find the answer, `AT`, is Austria."
      ]
    }
  ]
}